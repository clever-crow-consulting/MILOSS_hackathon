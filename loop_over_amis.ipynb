{
 "cells": [
  {
   "cell_type": "markdown",
   "metadata": {},
   "source": [
    "Ensuring Security of Cloud Server Instances\n",
    "========================\n",
    "\n",
    "@DanDye; MIL-OSS Hackathon, Tampa, FL October 23rd - 25th 2015"
   ]
  },
  {
   "cell_type": "code",
   "execution_count": 85,
   "metadata": {
    "collapsed": false
   },
   "outputs": [],
   "source": [
    "amis = [ {\"AMI_ID\": \"ami-2df5b444\", \"AMI_Name\": \"rhel6.4-oracle-ami\"},  # works\n",
    "         {\"AMI_ID\": \"ami-c7d379ae\", \"AMI_Name\": \"jboss-as-7.1.1.Final-as-a-service-RHEL6.3-64bit\"},\n",
    "         {\"AMI_ID\": \"ami-dbb5c6b2\", \"AMI_Name\": \"NOW Developers RHEL6\"},\n",
    "       ]\n",
    "AWS_KEYS_MILOSS=\"AWS_KEYS_MILOSS\"\n",
    "AWS_KEYS_MILOSS_FILE=\"/home/dandye/.ssh/AWS_KEYS_MILOSS.pem\"\n",
    "AWS_ID = open(\"/home/dandye/AWS_ID.txt\").read().strip()\n",
    "AWS_KEY = open(\"/home/dandye/AWS_KEY.txt\").read().strip() # keeping secrets isn't easy\n",
    "AWS_REGION = \"us-east-1\""
   ]
  },
  {
   "cell_type": "code",
   "execution_count": 157,
   "metadata": {
    "collapsed": false
   },
   "outputs": [],
   "source": [
    "from boto import ec2\n",
    "for i,ami in enumerate(amis[1:]):\n",
    "    conn = ec2.connect_to_region(AWS_REGION,\n",
    "                                 aws_access_key_id=AWS_ID,\n",
    "                                 aws_secret_access_key=AWS_KEY)\n",
    "    #conn.run_instances(ami[\"AMI_ID\"], key_name=\"AWS_KEYS_MILOSS\")"
   ]
  },
  {
   "cell_type": "code",
   "execution_count": 208,
   "metadata": {
    "collapsed": false
   },
   "outputs": [
    {
     "name": "stdout",
     "output_type": "stream",
     "text": [
      "ami-2df5b444\n",
      "[running(16)]\n"
     ]
    }
   ],
   "source": [
    "reservations = conn.get_all_reservations()\n",
    "\n",
    "test_amis = {}\n",
    "\n",
    "instances = [x.instances for x in reservations]\n",
    "\n",
    "for instance in instances:\n",
    "    if \"running\" in instance[0].state:\n",
    "        print instance[0].image_id\n",
    "        test_amis[instance[0].image_id] = {}\n",
    "        test_amis[instance[0].image_id].update(instance[0].__dict__)\n",
    "   \n",
    "print [test_amis[akey][\"_state\"] for akey in test_amis.keys()]\n",
    "# run the above cell until all states are 'running'"
   ]
  },
  {
   "cell_type": "code",
   "execution_count": null,
   "metadata": {
    "collapsed": false
   },
   "outputs": [],
   "source": []
  },
  {
   "cell_type": "code",
   "execution_count": 210,
   "metadata": {
    "collapsed": false
   },
   "outputs": [
    {
     "name": "stdout",
     "output_type": "stream",
     "text": [
      "ec2-54-157-250-199.compute-1.amazonaws.com\n"
     ]
    }
   ],
   "source": [
    "\"\"\"Setup some SSH/SFTP connex\"\"\"\n",
    "import paramiko\n",
    "\n",
    "mykey = paramiko.RSAKey.from_private_key_file(\"/home/dandye/.ssh/AWS_KEYS_MILOSS.pem\")\n",
    "sshuser = 'ec2-user' # FixMe: does this work for each AMI?\n",
    "\n",
    "clients = []\n",
    "for akey in test_amis.keys():\n",
    "    public_dns_name = test_amis[akey][\"public_dns_name\"]\n",
    "    print public_dns_name\n",
    "    client = paramiko.SSHClient()\n",
    "    client.set_missing_host_key_policy(paramiko.AutoAddPolicy()) \n",
    "    client.load_system_host_keys()\n",
    "    client.connect(public_dns_name, username=sshuser, pkey=mykey)\n",
    "    clients.append(client)\n",
    "\n",
    "#sftp = paramiko.SFTPClient.from_transport(client)\n",
    "\n",
    "\"\"\"Use Paramiko to run remote commands on Rackspace/EC2 Instance\"\"\"\n",
    "def run(client, cmd):\n",
    "    transport = client.get_transport()\n",
    "    session = transport.open_session()\n",
    "    session.set_combine_stderr(True)\n",
    "    session.get_pty()\n",
    "    session.exec_command(\"sudo {}\".format(cmd))\n",
    "    stdin = session.makefile('wb', -1)\n",
    "    stdout = session.makefile('rb', -1)\n",
    "    for line in stdout.read().splitlines():        \n",
    "        print line"
   ]
  },
  {
   "cell_type": "code",
   "execution_count": 131,
   "metadata": {
    "collapsed": false
   },
   "outputs": [
    {
     "data": {
      "text/plain": [
       "<paramiko.client.SSHClient at 0x7f4aa75752d0>"
      ]
     },
     "execution_count": 131,
     "metadata": {},
     "output_type": "execute_result"
    }
   ],
   "source": []
  },
  {
   "cell_type": "code",
   "execution_count": 142,
   "metadata": {
    "collapsed": false
   },
   "outputs": [],
   "source": [
    "for client in clients:\n",
    "    run(client, \"sudo yum install -y openscap-utils scap-security-guide\")\n",
    "    run(client, \"rpm -ql scap-security-guide\")\n",
    "    run(client, \"\"\"oscap xccdf eval \\\n",
    "        --profile stig-rhel6-server-upstream \\\n",
    "        --results /tmp/ssg-results.xml \\\n",
    "        --report /tmp/ssg-results.html \\\n",
    "        --cpe /usr/share/xml/scap/ssg/content/ssg-rhel6-cpe-dictionary.xml \\\n",
    "              /usr/share/xml/scap/ssg/content/ssg-rhel6-xccdf.xml\"\"\") # fabric runs command on each host"
   ]
  },
  {
   "cell_type": "code",
   "execution_count": 211,
   "metadata": {
    "collapsed": false
   },
   "outputs": [],
   "source": [
    "#from fabric.api import env, run, get\n",
    "#report = get(\"/tmp/ssg-results.html\", \"ami_{}_ssg_results.html\".format(AMI_ID))"
   ]
  },
  {
   "cell_type": "code",
   "execution_count": 223,
   "metadata": {
    "collapsed": false
   },
   "outputs": [
    {
     "name": "stdout",
     "output_type": "stream",
     "text": [
      "ami-2df5b444\n"
     ]
    }
   ],
   "source": [
    "# SCP the report\n",
    "for ami in test_amis.keys():\n",
    "    print ami #ami = \"ami-94a3eefc\" # FixMe: hard-coded\n",
    "    transport = paramiko.Transport((test_amis[ami][\"public_dns_name\"], 22))  # server is IP of box\n",
    "    transport.connect(username=\"ec2-user\", pkey=mykey)\n",
    "    sftp = paramiko.SFTPClient.from_transport(transport)\n",
    "    local_name = \"{}_ssg_results\".format(ami)\n",
    "    sftp.get(\"/tmp/ssg-results.html\", \"{}.html\".format(local_name))\n",
    "    sftp.get(\"/tmp/ssg-results.xml\", \"{}.xml\".format(local_name))\n",
    "    test_amis[ami][\"local_name\"] = local_name"
   ]
  },
  {
   "cell_type": "code",
   "execution_count": 228,
   "metadata": {
    "collapsed": false
   },
   "outputs": [
    {
     "name": "stdout",
     "output_type": "stream",
     "text": [
      "ami-2df5b444_ssg_results.html\n"
     ]
    }
   ],
   "source": [
    "import os\n",
    "from IPython.display import IFrame\n",
    "#render = lambda url: IFrame(url, width=900, height=500)\n",
    "\n",
    "for ami in test_amis.keys():\n",
    "    url = \"{}.html\".format(test_amis[ami][\"local_name\"])\n",
    "    print url\n",
    "    IFrame(url, width=900, height=500)\n",
    "    break"
   ]
  },
  {
   "cell_type": "code",
   "execution_count": 229,
   "metadata": {
    "collapsed": false
   },
   "outputs": [
    {
     "data": {
      "text/html": [
       "\n",
       "        <iframe\n",
       "            width=\"900\"\n",
       "            height=\"500\"\n",
       "            src=\"ami-2df5b444_ssg_results.html\"\n",
       "            frameborder=\"0\"\n",
       "            allowfullscreen\n",
       "        ></iframe>\n",
       "        "
      ],
      "text/plain": [
       "<IPython.lib.display.IFrame at 0x7f4aa460e610>"
      ]
     },
     "execution_count": 229,
     "metadata": {},
     "output_type": "execute_result"
    }
   ],
   "source": [
    "IFrame(\"ami-2df5b444_ssg_results.html\", width=900, height=500)"
   ]
  },
  {
   "cell_type": "code",
   "execution_count": null,
   "metadata": {
    "collapsed": true
   },
   "outputs": [],
   "source": []
  }
 ],
 "metadata": {
  "kernelspec": {
   "display_name": "Python 2",
   "language": "python",
   "name": "python2"
  },
  "language_info": {
   "codemirror_mode": {
    "name": "ipython",
    "version": 2
   },
   "file_extension": ".py",
   "mimetype": "text/x-python",
   "name": "python",
   "nbconvert_exporter": "python",
   "pygments_lexer": "ipython2",
   "version": "2.7.10"
  }
 },
 "nbformat": 4,
 "nbformat_minor": 0
}
