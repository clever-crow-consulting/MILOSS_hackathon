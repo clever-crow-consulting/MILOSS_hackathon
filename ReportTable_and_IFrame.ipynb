{
 "cells": [
  {
   "cell_type": "code",
   "execution_count": 27,
   "metadata": {
    "collapsed": false
   },
   "outputs": [
    {
     "data": {
      "text/html": [
       "<table><tr><th>Cloud Provider</th><th>Report</th></tr><tr><td>Amazon EC2</td><td>\n",
       "      <a href=\"./reports/ami_ami-94a3eefc_ssg_results.html\" target=\"iframe_a\">./reports/ami_ami-94a3eefc_ssg_results.html</a>\n",
       "      </td></tr>\n",
       "<tr><td>Amazon EC2</td><td>\n",
       "      <a href=\"./reports/ami-2df5b444.html\" target=\"iframe_a\">./reports/ami-2df5b444.html</a>\n",
       "      </td></tr>\n",
       "<tr><td>Amazon EC2</td><td>\n",
       "      <a href=\"./reports/ami-2df5b444_ssg_results.html\" target=\"iframe_a\">./reports/ami-2df5b444_ssg_results.html</a>\n",
       "      </td></tr>\n",
       "<tr><td>Amazon EC2</td><td>\n",
       "      <a href=\"./reports/ami_ami-2df5b444_ssg_results.html\" target=\"iframe_a\">./reports/ami_ami-2df5b444_ssg_results.html</a>\n",
       "      </td></tr>\n",
       "<tr><td>Amazon EC2</td><td>\n",
       "      <a href=\"./reports/out.html\" target=\"iframe_a\">./reports/out.html</a>\n",
       "      </td></tr></table><br/>\n",
       "     <iframe src=\"reports/ami-2df5b444.html\" width=800 height=900 name=\"iframe_a\"></iframe>\n",
       "     "
      ],
      "text/plain": [
       "<IPython.core.display.HTML object>"
      ]
     },
     "execution_count": 27,
     "metadata": {},
     "output_type": "execute_result"
    }
   ],
   "source": [
    "import os\n",
    "import glob\n",
    "from IPython.display import HTML, IFrame\n",
    "\n",
    "report_list = []\n",
    "for report in glob.glob(\"./reports/*.html\"):\n",
    "    report_list.append(\"\"\"<tr><td>Amazon EC2</td><td>\n",
    "      <a href=\"{report}\" target=\"iframe_a\">{report}</a>\n",
    "      </td></tr>\"\"\".format(report=report))\n",
    "\n",
    "HTML(\"<table><tr><th>Cloud Provider</th><th>Report</th></tr>\" +\n",
    "    \"\\n\".join(report_list)\n",
    "    + \"</table><br/>\" +\n",
    "     \"\"\"\n",
    "     <iframe src=\"reports/ami-2df5b444.html\" width=800 height=900 name=\"iframe_a\"></iframe>\n",
    "     \"\"\")\n",
    "\n",
    "\n",
    "#IFrame(\"./reports/ami-2df5b444.html\", width=900, height=500)"
   ]
  },
  {
   "cell_type": "code",
   "execution_count": 13,
   "metadata": {
    "collapsed": false
   },
   "outputs": [
    {
     "data": {
      "text/html": [
       "\n",
       "        <iframe\n",
       "            width=\"900\"\n",
       "            height=\"500\"\n",
       "            src=\"./reports/ami-2df5b444.html\"\n",
       "            frameborder=\"0\"\n",
       "            allowfullscreen\n",
       "        ></iframe>\n",
       "        "
      ],
      "text/plain": [
       "<IPython.lib.display.IFrame at 0x7ff42e7efb10>"
      ]
     },
     "execution_count": 13,
     "metadata": {},
     "output_type": "execute_result"
    }
   ],
   "source": []
  },
  {
   "cell_type": "code",
   "execution_count": null,
   "metadata": {
    "collapsed": true
   },
   "outputs": [],
   "source": []
  }
 ],
 "metadata": {
  "kernelspec": {
   "display_name": "Python 2",
   "language": "python",
   "name": "python2"
  },
  "language_info": {
   "codemirror_mode": {
    "name": "ipython",
    "version": 2
   },
   "file_extension": ".py",
   "mimetype": "text/x-python",
   "name": "python",
   "nbconvert_exporter": "python",
   "pygments_lexer": "ipython2",
   "version": "2.7.10"
  }
 },
 "nbformat": 4,
 "nbformat_minor": 0
}
